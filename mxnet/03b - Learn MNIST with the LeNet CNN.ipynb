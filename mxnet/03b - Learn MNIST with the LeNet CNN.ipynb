{
 "cells": [
  {
   "cell_type": "markdown",
   "metadata": {},
   "source": [
    "## Learning MNIST with the LeNet CNN"
   ]
  },
  {
   "cell_type": "markdown",
   "metadata": {},
   "source": [
    "First, let's download the data set."
   ]
  },
  {
   "cell_type": "code",
   "execution_count": null,
   "metadata": {
    "collapsed": true
   },
   "outputs": [],
   "source": [
    "!wget http://yann.lecun.com/exdb/mnist/train-images-idx3-ubyte.gz\n",
    "!wget http://yann.lecun.com/exdb/mnist/train-labels-idx1-ubyte.gz\n",
    "!wget http://yann.lecun.com/exdb/mnist/t10k-images-idx3-ubyte.gz\n",
    "!wget http://yann.lecun.com/exdb/mnist/t10k-labels-idx1-ubyte.gz\n",
    "!gzip -d train*.gz t10k*.gz"
   ]
  },
  {
   "cell_type": "code",
   "execution_count": 12,
   "metadata": {},
   "outputs": [],
   "source": [
    "import mxnet as mx\n",
    "import logging\n",
    "\n",
    "logging.basicConfig(level=logging.INFO)"
   ]
  },
  {
   "cell_type": "markdown",
   "metadata": {},
   "source": [
    "MXNet provides a convenient iterator for MNIST. We use it to build the training and the validation iterators."
   ]
  },
  {
   "cell_type": "code",
   "execution_count": 13,
   "metadata": {
    "collapsed": true
   },
   "outputs": [],
   "source": [
    "nb_epochs = 25\n",
    "\n",
    "train_iter = mx.io.MNISTIter(shuffle=True)\n",
    "val_iter = mx.io.MNISTIter(image=\"./t10k-images-idx3-ubyte\", label=\"./t10k-labels-idx1-ubyte\")"
   ]
  },
  {
   "cell_type": "markdown",
   "metadata": {},
   "source": [
    "We build the LeNet network (http://yann.lecun.com/exdb/lenet/), replacing the tanh activation function with the ReLU function."
   ]
  },
  {
   "cell_type": "code",
   "execution_count": 14,
   "metadata": {
    "collapsed": true
   },
   "outputs": [],
   "source": [
    "data = mx.symbol.Variable('data')\n",
    "conv1 = mx.sym.Convolution(data=data, kernel=(5,5), num_filter=20)\n",
    "relu1 = mx.sym.Activation(data=conv1, act_type=\"relu\")\n",
    "pool1 = mx.sym.Pooling(data=relu1, pool_type=\"max\", kernel=(2,2), stride=(2,2))\n",
    "conv2 = mx.sym.Convolution(data=pool1, kernel=(5,5), num_filter=50)\n",
    "relu2 = mx.sym.Activation(data=conv2, act_type=\"relu\")\n",
    "pool2 = mx.sym.Pooling(data=relu2, pool_type=\"max\", kernel=(2,2), stride=(2,2))\n",
    "flatten = mx.sym.Flatten(data=pool2)\n",
    "fc1 = mx.symbol.FullyConnected(data=flatten, num_hidden=500)\n",
    "relu3 = mx.sym.Activation(data=fc1, act_type=\"relu\")\n",
    "fc2 = mx.sym.FullyConnected(data=relu3, num_hidden=10)\n",
    "lenet = mx.sym.SoftmaxOutput(data=fc2, name='softmax')"
   ]
  },
  {
   "cell_type": "markdown",
   "metadata": {},
   "source": [
    "Now, we need to:\n",
    "- bind the model to the training set,\n",
    "- initialize the parameters, i.e. set initial values for all weights,\n",
    "- pick an optimizer and a learning rate, to adjust weights during backpropagation"
   ]
  },
  {
   "cell_type": "code",
   "execution_count": 15,
   "metadata": {
    "collapsed": true
   },
   "outputs": [],
   "source": [
    "#mod = mx.mod.Module(lenet)\n",
    "mod = mx.mod.Module(lenet, context=mx.gpu(0))\n",
    "mod.bind(data_shapes=train_iter.provide_data, label_shapes=train_iter.provide_label)\n",
    "mod.init_params(initializer=mx.init.Xavier())\n",
    "mod.init_optimizer('adam', optimizer_params=(('learning_rate', 0.1),))"
   ]
  },
  {
   "cell_type": "markdown",
   "metadata": {},
   "source": [
    "Time to train!"
   ]
  },
  {
   "cell_type": "code",
   "execution_count": 16,
   "metadata": {},
   "outputs": [
    {
     "name": "stderr",
     "output_type": "stream",
     "text": [
      "WARNING:root:Already bound, ignoring bind()\n",
      "/home/ec2-user/anaconda3/envs/mxnet_p36/lib/python3.6/site-packages/mxnet/module/base_module.py:464: UserWarning: Parameters already initialized and force_init=False. init_params call ignored.\n",
      "  allow_missing=allow_missing, force_init=force_init)\n",
      "WARNING:root:optimizer already initialized, ignoring...\n",
      "INFO:root:Epoch[0] Batch [100]\tSpeed: 24162.63 samples/sec\taccuracy=0.747447\n",
      "INFO:root:Epoch[0] Batch [200]\tSpeed: 29782.38 samples/sec\taccuracy=0.938047\n",
      "INFO:root:Epoch[0] Batch [300]\tSpeed: 31277.74 samples/sec\taccuracy=0.955391\n",
      "INFO:root:Epoch[0] Batch [400]\tSpeed: 31242.05 samples/sec\taccuracy=0.966797\n",
      "INFO:root:Epoch[0] Train-accuracy=0.970266\n",
      "INFO:root:Epoch[0] Time cost=2.064\n",
      "INFO:root:Epoch[0] Validation-accuracy=0.976963\n",
      "INFO:root:Epoch[1] Batch [100]\tSpeed: 31202.11 samples/sec\taccuracy=0.974087\n",
      "INFO:root:Epoch[1] Batch [200]\tSpeed: 31228.84 samples/sec\taccuracy=0.974844\n",
      "INFO:root:Epoch[1] Batch [300]\tSpeed: 31183.60 samples/sec\taccuracy=0.977578\n",
      "INFO:root:Epoch[1] Batch [400]\tSpeed: 31248.98 samples/sec\taccuracy=0.981797\n",
      "INFO:root:Epoch[1] Train-accuracy=0.979827\n",
      "INFO:root:Epoch[1] Time cost=1.922\n",
      "INFO:root:Epoch[1] Validation-accuracy=0.984375\n",
      "INFO:root:Epoch[2] Batch [100]\tSpeed: 31173.24 samples/sec\taccuracy=0.982751\n",
      "INFO:root:Epoch[2] Batch [200]\tSpeed: 31203.25 samples/sec\taccuracy=0.981406\n",
      "INFO:root:Epoch[2] Batch [300]\tSpeed: 31211.43 samples/sec\taccuracy=0.985000\n",
      "INFO:root:Epoch[2] Batch [400]\tSpeed: 31235.76 samples/sec\taccuracy=0.988047\n",
      "INFO:root:Epoch[2] Train-accuracy=0.985774\n",
      "INFO:root:Epoch[2] Time cost=1.922\n",
      "INFO:root:Epoch[2] Validation-accuracy=0.986979\n",
      "INFO:root:Epoch[3] Batch [100]\tSpeed: 31155.48 samples/sec\taccuracy=0.986850\n",
      "INFO:root:Epoch[3] Batch [200]\tSpeed: 31211.61 samples/sec\taccuracy=0.986094\n",
      "INFO:root:Epoch[3] Batch [300]\tSpeed: 31298.13 samples/sec\taccuracy=0.987812\n",
      "INFO:root:Epoch[3] Batch [400]\tSpeed: 31261.26 samples/sec\taccuracy=0.990781\n",
      "INFO:root:Epoch[3] Train-accuracy=0.989506\n",
      "INFO:root:Epoch[3] Time cost=1.924\n",
      "INFO:root:Epoch[3] Validation-accuracy=0.987580\n",
      "INFO:root:Epoch[4] Batch [100]\tSpeed: 31142.86 samples/sec\taccuracy=0.989635\n",
      "INFO:root:Epoch[4] Batch [200]\tSpeed: 31264.72 samples/sec\taccuracy=0.988516\n",
      "INFO:root:Epoch[4] Batch [300]\tSpeed: 31315.46 samples/sec\taccuracy=0.991016\n",
      "INFO:root:Epoch[4] Batch [400]\tSpeed: 31174.13 samples/sec\taccuracy=0.992812\n",
      "INFO:root:Epoch[4] Train-accuracy=0.992071\n",
      "INFO:root:Epoch[4] Time cost=1.922\n",
      "INFO:root:Epoch[4] Validation-accuracy=0.988181\n",
      "INFO:root:Epoch[5] Batch [100]\tSpeed: 31157.65 samples/sec\taccuracy=0.991801\n",
      "INFO:root:Epoch[5] Batch [200]\tSpeed: 31150.00 samples/sec\taccuracy=0.990469\n",
      "INFO:root:Epoch[5] Batch [300]\tSpeed: 31223.99 samples/sec\taccuracy=0.992266\n",
      "INFO:root:Epoch[5] Batch [400]\tSpeed: 31244.60 samples/sec\taccuracy=0.993906\n",
      "INFO:root:Epoch[5] Train-accuracy=0.993937\n",
      "INFO:root:Epoch[5] Time cost=1.924\n",
      "INFO:root:Epoch[5] Validation-accuracy=0.988782\n",
      "INFO:root:Epoch[6] Batch [100]\tSpeed: 31161.92 samples/sec\taccuracy=0.993193\n",
      "INFO:root:Epoch[6] Batch [200]\tSpeed: 31211.47 samples/sec\taccuracy=0.991875\n",
      "INFO:root:Epoch[6] Batch [300]\tSpeed: 31108.47 samples/sec\taccuracy=0.993828\n",
      "INFO:root:Epoch[6] Batch [400]\tSpeed: 31118.95 samples/sec\taccuracy=0.995156\n",
      "INFO:root:Epoch[6] Train-accuracy=0.995219\n",
      "INFO:root:Epoch[6] Time cost=1.927\n",
      "INFO:root:Epoch[6] Validation-accuracy=0.989483\n",
      "INFO:root:Epoch[7] Batch [100]\tSpeed: 30594.84 samples/sec\taccuracy=0.994121\n",
      "INFO:root:Epoch[7] Batch [200]\tSpeed: 30608.97 samples/sec\taccuracy=0.993828\n",
      "INFO:root:Epoch[7] Batch [300]\tSpeed: 30240.01 samples/sec\taccuracy=0.994922\n",
      "INFO:root:Epoch[7] Batch [400]\tSpeed: 31151.65 samples/sec\taccuracy=0.996563\n",
      "INFO:root:Epoch[7] Train-accuracy=0.996502\n",
      "INFO:root:Epoch[7] Time cost=1.952\n",
      "INFO:root:Epoch[7] Validation-accuracy=0.989583\n",
      "INFO:root:Epoch[8] Batch [100]\tSpeed: 31079.17 samples/sec\taccuracy=0.995436\n",
      "INFO:root:Epoch[8] Batch [200]\tSpeed: 31222.68 samples/sec\taccuracy=0.994844\n",
      "INFO:root:Epoch[8] Batch [300]\tSpeed: 31199.71 samples/sec\taccuracy=0.995703\n",
      "INFO:root:Epoch[8] Batch [400]\tSpeed: 31221.90 samples/sec\taccuracy=0.997188\n",
      "INFO:root:Epoch[8] Train-accuracy=0.997318\n",
      "INFO:root:Epoch[8] Time cost=1.924\n",
      "INFO:root:Epoch[8] Validation-accuracy=0.989884\n",
      "INFO:root:Epoch[9] Batch [100]\tSpeed: 31142.97 samples/sec\taccuracy=0.996364\n",
      "INFO:root:Epoch[9] Batch [200]\tSpeed: 31290.18 samples/sec\taccuracy=0.996094\n",
      "INFO:root:Epoch[9] Batch [300]\tSpeed: 31199.40 samples/sec\taccuracy=0.996563\n",
      "INFO:root:Epoch[9] Batch [400]\tSpeed: 31210.36 samples/sec\taccuracy=0.997656\n",
      "INFO:root:Epoch[9] Train-accuracy=0.998251\n",
      "INFO:root:Epoch[9] Time cost=1.924\n",
      "INFO:root:Epoch[9] Validation-accuracy=0.989784\n",
      "INFO:root:Epoch[10] Batch [100]\tSpeed: 30998.20 samples/sec\taccuracy=0.997447\n",
      "INFO:root:Epoch[10] Batch [200]\tSpeed: 31129.09 samples/sec\taccuracy=0.996953\n",
      "INFO:root:Epoch[10] Batch [300]\tSpeed: 31245.87 samples/sec\taccuracy=0.997266\n",
      "INFO:root:Epoch[10] Batch [400]\tSpeed: 31252.25 samples/sec\taccuracy=0.998359\n",
      "INFO:root:Epoch[10] Train-accuracy=0.998717\n",
      "INFO:root:Epoch[10] Time cost=1.925\n",
      "INFO:root:Epoch[10] Validation-accuracy=0.990084\n",
      "INFO:root:Epoch[11] Batch [100]\tSpeed: 31223.50 samples/sec\taccuracy=0.997912\n",
      "INFO:root:Epoch[11] Batch [200]\tSpeed: 31232.40 samples/sec\taccuracy=0.997969\n",
      "INFO:root:Epoch[11] Batch [300]\tSpeed: 31204.44 samples/sec\taccuracy=0.997031\n",
      "INFO:root:Epoch[11] Batch [400]\tSpeed: 31189.02 samples/sec\taccuracy=0.998594\n",
      "INFO:root:Epoch[11] Train-accuracy=0.999184\n",
      "INFO:root:Epoch[11] Time cost=1.923\n",
      "INFO:root:Epoch[11] Validation-accuracy=0.990685\n",
      "INFO:root:Epoch[12] Batch [100]\tSpeed: 31225.03 samples/sec\taccuracy=0.998376\n",
      "INFO:root:Epoch[12] Batch [200]\tSpeed: 31273.90 samples/sec\taccuracy=0.998594\n",
      "INFO:root:Epoch[12] Batch [300]\tSpeed: 31260.33 samples/sec\taccuracy=0.997969\n",
      "INFO:root:Epoch[12] Batch [400]\tSpeed: 31255.95 samples/sec\taccuracy=0.998672\n",
      "INFO:root:Epoch[12] Train-accuracy=0.999184\n",
      "INFO:root:Epoch[12] Time cost=1.922\n",
      "INFO:root:Epoch[12] Validation-accuracy=0.990284\n",
      "INFO:root:Epoch[13] Batch [100]\tSpeed: 31129.30 samples/sec\taccuracy=0.998994\n",
      "INFO:root:Epoch[13] Batch [200]\tSpeed: 31261.77 samples/sec\taccuracy=0.998828\n",
      "INFO:root:Epoch[13] Batch [300]\tSpeed: 31433.35 samples/sec\taccuracy=0.998281\n",
      "INFO:root:Epoch[13] Batch [400]\tSpeed: 31230.04 samples/sec\taccuracy=0.999297\n",
      "INFO:root:Epoch[13] Train-accuracy=0.999650\n",
      "INFO:root:Epoch[13] Time cost=1.920\n",
      "INFO:root:Epoch[13] Validation-accuracy=0.990785\n",
      "INFO:root:Epoch[14] Batch [100]\tSpeed: 31139.45 samples/sec\taccuracy=0.999304\n",
      "INFO:root:Epoch[14] Batch [200]\tSpeed: 31292.40 samples/sec\taccuracy=0.999141\n",
      "INFO:root:Epoch[14] Batch [300]\tSpeed: 31353.62 samples/sec\taccuracy=0.998672\n",
      "INFO:root:Epoch[14] Batch [400]\tSpeed: 31153.94 samples/sec\taccuracy=0.999219\n",
      "INFO:root:Epoch[14] Train-accuracy=0.999650\n",
      "INFO:root:Epoch[14] Time cost=1.921\n",
      "INFO:root:Epoch[14] Validation-accuracy=0.991286\n",
      "INFO:root:Epoch[15] Batch [100]\tSpeed: 31218.56 samples/sec\taccuracy=0.999381\n",
      "INFO:root:Epoch[15] Batch [200]\tSpeed: 31305.54 samples/sec\taccuracy=0.998984\n",
      "INFO:root:Epoch[15] Batch [300]\tSpeed: 31314.05 samples/sec\taccuracy=0.998750\n",
      "INFO:root:Epoch[15] Batch [400]\tSpeed: 31340.63 samples/sec\taccuracy=0.999297\n",
      "INFO:root:Epoch[15] Train-accuracy=0.999650\n",
      "INFO:root:Epoch[15] Time cost=1.919\n",
      "INFO:root:Epoch[15] Validation-accuracy=0.990685\n",
      "INFO:root:Epoch[16] Batch [100]\tSpeed: 31147.22 samples/sec\taccuracy=0.999381\n",
      "INFO:root:Epoch[16] Batch [200]\tSpeed: 31256.60 samples/sec\taccuracy=0.998437\n",
      "INFO:root:Epoch[16] Batch [300]\tSpeed: 31308.04 samples/sec\taccuracy=0.999062\n",
      "INFO:root:Epoch[16] Batch [400]\tSpeed: 31239.91 samples/sec\taccuracy=0.999609\n",
      "INFO:root:Epoch[16] Train-accuracy=0.999767\n",
      "INFO:root:Epoch[16] Time cost=1.921\n",
      "INFO:root:Epoch[16] Validation-accuracy=0.990986\n",
      "INFO:root:Epoch[17] Batch [100]\tSpeed: 31166.33 samples/sec\taccuracy=0.999459\n",
      "INFO:root:Epoch[17] Batch [200]\tSpeed: 31276.80 samples/sec\taccuracy=0.999141\n",
      "INFO:root:Epoch[17] Batch [300]\tSpeed: 31147.69 samples/sec\taccuracy=0.998984\n",
      "INFO:root:Epoch[17] Batch [400]\tSpeed: 31192.12 samples/sec\taccuracy=0.999531\n",
      "INFO:root:Epoch[17] Train-accuracy=0.999650\n",
      "INFO:root:Epoch[17] Time cost=1.924\n",
      "INFO:root:Epoch[17] Validation-accuracy=0.990685\n"
     ]
    },
    {
     "name": "stderr",
     "output_type": "stream",
     "text": [
      "INFO:root:Epoch[18] Batch [100]\tSpeed: 31160.43 samples/sec\taccuracy=0.999613\n",
      "INFO:root:Epoch[18] Batch [200]\tSpeed: 31333.70 samples/sec\taccuracy=0.999609\n",
      "INFO:root:Epoch[18] Batch [300]\tSpeed: 31233.93 samples/sec\taccuracy=0.999141\n",
      "INFO:root:Epoch[18] Batch [400]\tSpeed: 31332.51 samples/sec\taccuracy=0.999453\n",
      "INFO:root:Epoch[18] Train-accuracy=0.999883\n",
      "INFO:root:Epoch[18] Time cost=1.918\n",
      "INFO:root:Epoch[18] Validation-accuracy=0.991086\n",
      "INFO:root:Epoch[19] Batch [100]\tSpeed: 31077.26 samples/sec\taccuracy=0.999691\n",
      "INFO:root:Epoch[19] Batch [200]\tSpeed: 31280.28 samples/sec\taccuracy=0.999609\n",
      "INFO:root:Epoch[19] Batch [300]\tSpeed: 31225.37 samples/sec\taccuracy=0.999609\n",
      "INFO:root:Epoch[19] Batch [400]\tSpeed: 31300.32 samples/sec\taccuracy=0.999609\n",
      "INFO:root:Epoch[19] Train-accuracy=0.999883\n",
      "INFO:root:Epoch[19] Time cost=1.922\n",
      "INFO:root:Epoch[19] Validation-accuracy=0.990785\n",
      "INFO:root:Epoch[20] Batch [100]\tSpeed: 31210.39 samples/sec\taccuracy=0.999768\n",
      "INFO:root:Epoch[20] Batch [200]\tSpeed: 31243.67 samples/sec\taccuracy=0.999766\n",
      "INFO:root:Epoch[20] Batch [300]\tSpeed: 31229.08 samples/sec\taccuracy=0.999844\n",
      "INFO:root:Epoch[20] Batch [400]\tSpeed: 31250.69 samples/sec\taccuracy=0.999687\n",
      "INFO:root:Epoch[20] Train-accuracy=0.999883\n",
      "INFO:root:Epoch[20] Time cost=1.922\n",
      "INFO:root:Epoch[20] Validation-accuracy=0.990485\n",
      "INFO:root:Epoch[21] Batch [100]\tSpeed: 31281.99 samples/sec\taccuracy=0.999845\n",
      "INFO:root:Epoch[21] Batch [200]\tSpeed: 31173.39 samples/sec\taccuracy=0.999844\n",
      "INFO:root:Epoch[21] Batch [300]\tSpeed: 31215.97 samples/sec\taccuracy=0.999609\n",
      "INFO:root:Epoch[21] Batch [400]\tSpeed: 31325.41 samples/sec\taccuracy=0.999766\n",
      "INFO:root:Epoch[21] Train-accuracy=0.999767\n",
      "INFO:root:Epoch[21] Time cost=1.919\n",
      "INFO:root:Epoch[21] Validation-accuracy=0.990685\n",
      "INFO:root:Epoch[22] Batch [100]\tSpeed: 31285.53 samples/sec\taccuracy=0.999923\n",
      "INFO:root:Epoch[22] Batch [200]\tSpeed: 31235.69 samples/sec\taccuracy=0.999844\n",
      "INFO:root:Epoch[22] Batch [300]\tSpeed: 31229.37 samples/sec\taccuracy=0.999844\n",
      "INFO:root:Epoch[22] Batch [400]\tSpeed: 31117.68 samples/sec\taccuracy=0.999844\n",
      "INFO:root:Epoch[22] Train-accuracy=1.000000\n",
      "INFO:root:Epoch[22] Time cost=1.923\n",
      "INFO:root:Epoch[22] Validation-accuracy=0.991186\n",
      "INFO:root:Epoch[23] Batch [100]\tSpeed: 31068.00 samples/sec\taccuracy=1.000000\n",
      "INFO:root:Epoch[23] Batch [200]\tSpeed: 31248.25 samples/sec\taccuracy=0.999844\n",
      "INFO:root:Epoch[23] Batch [300]\tSpeed: 31218.31 samples/sec\taccuracy=0.999766\n",
      "INFO:root:Epoch[23] Batch [400]\tSpeed: 31212.81 samples/sec\taccuracy=1.000000\n",
      "INFO:root:Epoch[23] Train-accuracy=0.999883\n",
      "INFO:root:Epoch[23] Time cost=1.924\n",
      "INFO:root:Epoch[23] Validation-accuracy=0.991486\n",
      "INFO:root:Epoch[24] Batch [100]\tSpeed: 31180.14 samples/sec\taccuracy=1.000000\n",
      "INFO:root:Epoch[24] Batch [200]\tSpeed: 31228.20 samples/sec\taccuracy=0.999844\n",
      "INFO:root:Epoch[24] Batch [300]\tSpeed: 31183.20 samples/sec\taccuracy=0.999766\n",
      "INFO:root:Epoch[24] Batch [400]\tSpeed: 31170.84 samples/sec\taccuracy=1.000000\n",
      "INFO:root:Epoch[24] Train-accuracy=1.000000\n",
      "INFO:root:Epoch[24] Time cost=1.924\n",
      "INFO:root:Epoch[24] Validation-accuracy=0.991286\n"
     ]
    }
   ],
   "source": [
    "mod.fit(train_iter, eval_data=val_iter, num_epoch=nb_epochs,\n",
    "        batch_end_callback=mx.callback.Speedometer(128, 100))"
   ]
  },
  {
   "cell_type": "code",
   "execution_count": 19,
   "metadata": {},
   "outputs": [
    {
     "name": "stderr",
     "output_type": "stream",
     "text": [
      "INFO:root:Saved checkpoint to \"lenet-0025.params\"\n"
     ]
    }
   ],
   "source": [
    "mod.save_checkpoint(\"lenet\", nb_epochs)"
   ]
  },
  {
   "cell_type": "markdown",
   "metadata": {},
   "source": [
    "Let's measure validation accuracy."
   ]
  },
  {
   "cell_type": "code",
   "execution_count": 20,
   "metadata": {},
   "outputs": [
    {
     "name": "stdout",
     "output_type": "stream",
     "text": [
      "('accuracy', 0.99128605769230771)\n"
     ]
    }
   ],
   "source": [
    "metric = mx.metric.Accuracy()\n",
    "mod.score(val_iter, metric)\n",
    "print(metric.get())"
   ]
  },
  {
   "cell_type": "code",
   "execution_count": null,
   "metadata": {
    "collapsed": true
   },
   "outputs": [],
   "source": []
  }
 ],
 "metadata": {
  "kernelspec": {
   "display_name": "conda_mxnet_p36",
   "language": "python",
   "name": "conda_mxnet_p36"
  },
  "language_info": {
   "codemirror_mode": {
    "name": "ipython",
    "version": 3
   },
   "file_extension": ".py",
   "mimetype": "text/x-python",
   "name": "python",
   "nbconvert_exporter": "python",
   "pygments_lexer": "ipython3",
   "version": "3.6.3"
  }
 },
 "nbformat": 4,
 "nbformat_minor": 2
}
