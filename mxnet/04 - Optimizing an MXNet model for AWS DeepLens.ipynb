{
 "cells": [
  {
   "cell_type": "markdown",
   "metadata": {},
   "source": [
    "## Optimizing an Apache MXNet model for AWS DeepLens"
   ]
  },
  {
   "cell_type": "markdown",
   "metadata": {},
   "source": [
    "This notebook shows you how to use the Intel Deep Learning Deployment Toolkit to optimize an MXNet model for Deep Lens."
   ]
  },
  {
   "cell_type": "code",
   "execution_count": null,
   "metadata": {},
   "outputs": [],
   "source": [
    "%env TOOLKIT_BUCKET=s3://jsimon-public-us/\n",
    "%env TOOLKIT_NAME=toolkit.tgz\n",
    "%env TOOLKIT_DIR=l_deeplearning_deploymenttoolkit_2017.1.0.5852\n",
    "\n",
    "%env MODEL_BUCKET=s3://jsimon-public-us/\n",
    "%env MODEL_NAME=Inception-BN\n",
    "\n",
    "%env OPT_DIR=/opt/intel/deeplearning_deploymenttoolkit/deployment_tools/model_optimizer/model_optimizer_mxnet\n",
    "%env OPT_PRECISION=FP16\n",
    "%env OPT_FUSE=YES"
   ]
  },
  {
   "cell_type": "code",
   "execution_count": null,
   "metadata": {},
   "outputs": [],
   "source": [
    "%%bash\n",
    "\n",
    "echo \"*** Downloading toolkit\"\n",
    "aws s3 cp $TOOLKIT_BUCKET$TOOLKIT_NAME .\n",
    "echo \"*** Installing toolkit\"\n",
    "tar xfz $TOOLKIT_NAME\n",
    "cd $TOOLKIT_DIR\n",
    "chmod 755 install.sh\n",
    "sudo ./install.sh -s silent.cfg \n",
    "echo \"*** Done\""
   ]
  },
  {
   "cell_type": "code",
   "execution_count": null,
   "metadata": {},
   "outputs": [],
   "source": [
    "%%bash\n",
    "\n",
    "#conda create -n intel_toolkit -y\n",
    "python -m ipykernel install --user --name intel_toolkit --display-name \"intel_toolkit\"\n",
    "\n",
    "source activate intel_toolkit\n",
    "cd $OPT_DIR\n",
    "pip install -r requirements.txt "
   ]
  },
  {
   "cell_type": "code",
   "execution_count": null,
   "metadata": {
    "scrolled": true
   },
   "outputs": [],
   "source": [
    "%%bash\n",
    "\n",
    "echo \"*** Downloading model\"\n",
    "aws s3 cp $MODEL_BUCKET$MODEL_NAME\"-symbol.json\" .\n",
    "aws s3 cp $MODEL_BUCKET$MODEL_NAME\"-0000.params\" .\n",
    "echo \"*** Done\""
   ]
  },
  {
   "cell_type": "code",
   "execution_count": null,
   "metadata": {},
   "outputs": [],
   "source": [
    "%%bash\n",
    "\n",
    "source activate intel_toolkit\n",
    "echo \"*** Converting model\"\n",
    "python $OPT_DIR/mo_mxnet_converter.py --models-dir . --output-dir . --model-name $MODEL_NAME --precision $OPT_PRECISION --fuse $OPT_FUSE\n",
    "ls mxnet_$MODEL_NAME*\n",
    "echo \"*** Done\""
   ]
  },
  {
   "cell_type": "code",
   "execution_count": null,
   "metadata": {
    "collapsed": true
   },
   "outputs": [],
   "source": []
  }
 ],
 "metadata": {
  "kernelspec": {
   "display_name": "intel_toolkit",
   "language": "python",
   "name": "intel_toolkit"
  },
  "language_info": {
   "codemirror_mode": {
    "name": "ipython",
    "version": 3
   },
   "file_extension": ".py",
   "mimetype": "text/x-python",
   "name": "python",
   "nbconvert_exporter": "python",
   "pygments_lexer": "ipython3",
   "version": "3.6.3"
  }
 },
 "nbformat": 4,
 "nbformat_minor": 2
}
