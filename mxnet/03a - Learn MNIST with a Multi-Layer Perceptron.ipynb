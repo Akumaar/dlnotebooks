{
 "cells": [
  {
   "cell_type": "markdown",
   "metadata": {},
   "source": [
    "## Learning MNIST with a Multi-Layer Perceptron"
   ]
  },
  {
   "cell_type": "markdown",
   "metadata": {},
   "source": [
    "First, let's download the data set."
   ]
  },
  {
   "cell_type": "code",
   "execution_count": null,
   "metadata": {
    "collapsed": true
   },
   "outputs": [],
   "source": [
    "!wget http://yann.lecun.com/exdb/mnist/train-images-idx3-ubyte.gz\n",
    "!wget http://yann.lecun.com/exdb/mnist/train-labels-idx1-ubyte.gz\n",
    "!wget http://yann.lecun.com/exdb/mnist/t10k-images-idx3-ubyte.gz\n",
    "!wget http://yann.lecun.com/exdb/mnist/t10k-labels-idx1-ubyte.gz\n",
    "!gzip -d train*.gz t10k*.gz"
   ]
  },
  {
   "cell_type": "code",
   "execution_count": 9,
   "metadata": {},
   "outputs": [],
   "source": [
    "import mxnet as mx\n",
    "import logging\n",
    "import os"
   ]
  },
  {
   "cell_type": "code",
   "execution_count": 10,
   "metadata": {
    "collapsed": true
   },
   "outputs": [],
   "source": [
    "logging.basicConfig(level=logging.INFO)\n",
    "\n",
    "nb_epochs=50"
   ]
  },
  {
   "cell_type": "markdown",
   "metadata": {},
   "source": [
    "MXNet provides a convenient iterator for MNIST. We use it to build the training and the validation iterators."
   ]
  },
  {
   "cell_type": "code",
   "execution_count": 11,
   "metadata": {
    "collapsed": true
   },
   "outputs": [],
   "source": [
    "train_iter = mx.io.MNISTIter(shuffle=True)\n",
    "val_iter = mx.io.MNISTIter(image=\"./t10k-images-idx3-ubyte\", label=\"./t10k-labels-idx1-ubyte\")"
   ]
  },
  {
   "cell_type": "markdown",
   "metadata": {},
   "source": [
    "We build a Multi-Layer Perceptron:\n",
    "- an input layer receiving a flattened MNIST image (28x28 --> 784),\n",
    "- a fully connected hidden layer with 512 neurons activated by the ReLU function,\n",
    "- a dropout layer to prevent overfitting,\n",
    "- a second fully connected hidden layer with 256 neurons activated by the ReLU function,\n",
    "- a second dropout layer to prevent overfitting,\n",
    "- an output layer with 10 neurons (because we have 10 categories), holding probabilities computed by the SoftMax function."
   ]
  },
  {
   "cell_type": "code",
   "execution_count": 12,
   "metadata": {
    "collapsed": true
   },
   "outputs": [],
   "source": [
    "data = mx.sym.Variable('data')\n",
    "data = mx.sym.Flatten(data=data)\n",
    "fc1  = mx.sym.FullyConnected(data=data, name='fc1', num_hidden=512)\n",
    "act1 = mx.sym.Activation(data=fc1, name='relu1', act_type=\"relu\")\n",
    "drop1= mx.sym.Dropout(data=act1,p=0.2)\n",
    "fc2  = mx.sym.FullyConnected(data=drop1, name='fc2', num_hidden = 256)\n",
    "act2 = mx.sym.Activation(data=fc2, name='relu2', act_type=\"relu\")\n",
    "drop2= mx.sym.Dropout(data=act2,p=0.2)\n",
    "fc3  = mx.sym.FullyConnected(data=drop2, name='fc3', num_hidden=10)\n",
    "mlp  = mx.sym.SoftmaxOutput(data=fc3, name='softmax')"
   ]
  },
  {
   "cell_type": "markdown",
   "metadata": {},
   "source": [
    "Now, we need to:\n",
    "- bind the model to the training set,\n",
    "- initialize the parameters, i.e. set initial values for all weights,\n",
    "- pick an optimizer and a learning rate, to adjust weights during backpropagation"
   ]
  },
  {
   "cell_type": "code",
   "execution_count": 13,
   "metadata": {
    "collapsed": true
   },
   "outputs": [],
   "source": [
    "mod = mx.mod.Module(mlp, context=mx.gpu(0))\n",
    "mod.bind(data_shapes=train_iter.provide_data, label_shapes=train_iter.provide_label)\n",
    "mod.init_params(initializer=mx.init.Xavier())\n",
    "#mod.init_optimizer('sgd', optimizer_params=(('learning_rate', 0.01),))\n",
    "mod.init_optimizer('adagrad', optimizer_params=(('learning_rate', 0.1),))"
   ]
  },
  {
   "cell_type": "markdown",
   "metadata": {},
   "source": [
    "Time to train!"
   ]
  },
  {
   "cell_type": "code",
   "execution_count": 14,
   "metadata": {
    "scrolled": true
   },
   "outputs": [
    {
     "name": "stderr",
     "output_type": "stream",
     "text": [
      "WARNING:root:Already bound, ignoring bind()\n",
      "/home/ec2-user/anaconda3/envs/mxnet_p36/lib/python3.6/site-packages/mxnet/module/base_module.py:464: UserWarning: Parameters already initialized and force_init=False. init_params call ignored.\n",
      "  allow_missing=allow_missing, force_init=force_init)\n",
      "WARNING:root:optimizer already initialized, ignoring...\n",
      "INFO:root:Epoch[0] Batch [100]\tSpeed: 93204.00 samples/sec\taccuracy=0.745900\n",
      "INFO:root:Epoch[0] Batch [200]\tSpeed: 92606.10 samples/sec\taccuracy=0.875938\n",
      "INFO:root:Epoch[0] Batch [300]\tSpeed: 93716.34 samples/sec\taccuracy=0.894687\n",
      "INFO:root:Epoch[0] Batch [400]\tSpeed: 98678.08 samples/sec\taccuracy=0.910859\n",
      "INFO:root:Epoch[0] Train-accuracy=0.917444\n",
      "INFO:root:Epoch[0] Time cost=0.634\n",
      "INFO:root:Epoch[0] Validation-accuracy=0.940905\n",
      "INFO:root:Epoch[1] Batch [100]\tSpeed: 105258.28 samples/sec\taccuracy=0.929533\n",
      "INFO:root:Epoch[1] Batch [200]\tSpeed: 103471.85 samples/sec\taccuracy=0.931172\n",
      "INFO:root:Epoch[1] Batch [300]\tSpeed: 106309.81 samples/sec\taccuracy=0.936797\n",
      "INFO:root:Epoch[1] Batch [400]\tSpeed: 106854.23 samples/sec\taccuracy=0.942891\n",
      "INFO:root:Epoch[1] Train-accuracy=0.941348\n",
      "INFO:root:Epoch[1] Time cost=0.574\n",
      "INFO:root:Epoch[1] Validation-accuracy=0.955829\n",
      "INFO:root:Epoch[2] Batch [100]\tSpeed: 112074.59 samples/sec\taccuracy=0.949489\n",
      "INFO:root:Epoch[2] Batch [200]\tSpeed: 109622.32 samples/sec\taccuracy=0.946797\n",
      "INFO:root:Epoch[2] Batch [300]\tSpeed: 108492.74 samples/sec\taccuracy=0.951641\n",
      "INFO:root:Epoch[2] Batch [400]\tSpeed: 108301.46 samples/sec\taccuracy=0.956797\n",
      "INFO:root:Epoch[2] Train-accuracy=0.954408\n",
      "INFO:root:Epoch[2] Time cost=0.550\n",
      "INFO:root:Epoch[2] Validation-accuracy=0.962440\n",
      "INFO:root:Epoch[3] Batch [100]\tSpeed: 111372.22 samples/sec\taccuracy=0.957302\n",
      "INFO:root:Epoch[3] Batch [200]\tSpeed: 115134.23 samples/sec\taccuracy=0.957031\n",
      "INFO:root:Epoch[3] Batch [300]\tSpeed: 113506.00 samples/sec\taccuracy=0.961094\n",
      "INFO:root:Epoch[3] Batch [400]\tSpeed: 114725.32 samples/sec\taccuracy=0.962187\n",
      "INFO:root:Epoch[3] Train-accuracy=0.961404\n",
      "INFO:root:Epoch[3] Time cost=0.531\n",
      "INFO:root:Epoch[3] Validation-accuracy=0.967849\n",
      "INFO:root:Epoch[4] Batch [100]\tSpeed: 113135.97 samples/sec\taccuracy=0.966507\n",
      "INFO:root:Epoch[4] Batch [200]\tSpeed: 111474.67 samples/sec\taccuracy=0.962891\n",
      "INFO:root:Epoch[4] Batch [300]\tSpeed: 110353.96 samples/sec\taccuracy=0.966562\n",
      "INFO:root:Epoch[4] Batch [400]\tSpeed: 112770.71 samples/sec\taccuracy=0.968516\n",
      "INFO:root:Epoch[4] Train-accuracy=0.967118\n",
      "INFO:root:Epoch[4] Time cost=0.544\n",
      "INFO:root:Epoch[4] Validation-accuracy=0.970453\n",
      "INFO:root:Epoch[5] Batch [100]\tSpeed: 110628.20 samples/sec\taccuracy=0.972076\n",
      "INFO:root:Epoch[5] Batch [200]\tSpeed: 114695.91 samples/sec\taccuracy=0.968437\n",
      "INFO:root:Epoch[5] Batch [300]\tSpeed: 111875.84 samples/sec\taccuracy=0.970781\n",
      "INFO:root:Epoch[5] Batch [400]\tSpeed: 116696.35 samples/sec\taccuracy=0.972734\n",
      "INFO:root:Epoch[5] Train-accuracy=0.971199\n",
      "INFO:root:Epoch[5] Time cost=0.535\n",
      "INFO:root:Epoch[5] Validation-accuracy=0.973458\n",
      "INFO:root:Epoch[6] Batch [100]\tSpeed: 115666.80 samples/sec\taccuracy=0.973546\n",
      "INFO:root:Epoch[6] Batch [200]\tSpeed: 110517.07 samples/sec\taccuracy=0.973672\n",
      "INFO:root:Epoch[6] Batch [300]\tSpeed: 116067.40 samples/sec\taccuracy=0.974766\n",
      "INFO:root:Epoch[6] Batch [400]\tSpeed: 115295.44 samples/sec\taccuracy=0.975547\n",
      "INFO:root:Epoch[6] Train-accuracy=0.973298\n",
      "INFO:root:Epoch[6] Time cost=0.534\n",
      "INFO:root:Epoch[6] Validation-accuracy=0.975461\n",
      "INFO:root:Epoch[7] Batch [100]\tSpeed: 114375.57 samples/sec\taccuracy=0.976717\n",
      "INFO:root:Epoch[7] Batch [200]\tSpeed: 114960.67 samples/sec\taccuracy=0.975000\n",
      "INFO:root:Epoch[7] Batch [300]\tSpeed: 116075.18 samples/sec\taccuracy=0.975313\n",
      "INFO:root:Epoch[7] Batch [400]\tSpeed: 114659.90 samples/sec\taccuracy=0.978203\n",
      "INFO:root:Epoch[7] Train-accuracy=0.977029\n",
      "INFO:root:Epoch[7] Time cost=0.527\n",
      "INFO:root:Epoch[7] Validation-accuracy=0.977163\n",
      "INFO:root:Epoch[8] Batch [100]\tSpeed: 114688.32 samples/sec\taccuracy=0.979270\n",
      "INFO:root:Epoch[8] Batch [200]\tSpeed: 115414.16 samples/sec\taccuracy=0.977578\n",
      "INFO:root:Epoch[8] Batch [300]\tSpeed: 112294.71 samples/sec\taccuracy=0.978359\n",
      "INFO:root:Epoch[8] Batch [400]\tSpeed: 113372.25 samples/sec\taccuracy=0.979766\n",
      "INFO:root:Epoch[8] Train-accuracy=0.979011\n",
      "INFO:root:Epoch[8] Time cost=0.530\n",
      "INFO:root:Epoch[8] Validation-accuracy=0.978466\n",
      "INFO:root:Epoch[9] Batch [100]\tSpeed: 110590.37 samples/sec\taccuracy=0.982287\n",
      "INFO:root:Epoch[9] Batch [200]\tSpeed: 116120.62 samples/sec\taccuracy=0.978516\n",
      "INFO:root:Epoch[9] Batch [300]\tSpeed: 118364.83 samples/sec\taccuracy=0.979062\n",
      "INFO:root:Epoch[9] Batch [400]\tSpeed: 116357.95 samples/sec\taccuracy=0.982891\n",
      "INFO:root:Epoch[9] Train-accuracy=0.981693\n",
      "INFO:root:Epoch[9] Time cost=0.526\n",
      "INFO:root:Epoch[9] Validation-accuracy=0.979067\n",
      "INFO:root:Epoch[10] Batch [100]\tSpeed: 112824.75 samples/sec\taccuracy=0.982905\n",
      "INFO:root:Epoch[10] Batch [200]\tSpeed: 111287.03 samples/sec\taccuracy=0.981641\n",
      "INFO:root:Epoch[10] Batch [300]\tSpeed: 116041.31 samples/sec\taccuracy=0.982578\n",
      "INFO:root:Epoch[10] Batch [400]\tSpeed: 113195.37 samples/sec\taccuracy=0.984219\n",
      "INFO:root:Epoch[10] Train-accuracy=0.981576\n",
      "INFO:root:Epoch[10] Time cost=0.536\n",
      "INFO:root:Epoch[10] Validation-accuracy=0.979267\n",
      "INFO:root:Epoch[11] Batch [100]\tSpeed: 115838.75 samples/sec\taccuracy=0.983756\n",
      "INFO:root:Epoch[11] Batch [200]\tSpeed: 116704.98 samples/sec\taccuracy=0.983047\n",
      "INFO:root:Epoch[11] Batch [300]\tSpeed: 109176.91 samples/sec\taccuracy=0.982500\n",
      "INFO:root:Epoch[11] Batch [400]\tSpeed: 113782.65 samples/sec\taccuracy=0.986172\n",
      "INFO:root:Epoch[11] Train-accuracy=0.984258\n",
      "INFO:root:Epoch[11] Time cost=0.534\n",
      "INFO:root:Epoch[11] Validation-accuracy=0.980268\n",
      "INFO:root:Epoch[12] Batch [100]\tSpeed: 114611.93 samples/sec\taccuracy=0.985303\n",
      "INFO:root:Epoch[12] Batch [200]\tSpeed: 114300.32 samples/sec\taccuracy=0.982891\n",
      "INFO:root:Epoch[12] Batch [300]\tSpeed: 114259.21 samples/sec\taccuracy=0.984219\n",
      "INFO:root:Epoch[12] Batch [400]\tSpeed: 115747.59 samples/sec\taccuracy=0.985781\n",
      "INFO:root:Epoch[12] Train-accuracy=0.986824\n",
      "INFO:root:Epoch[12] Time cost=0.526\n",
      "INFO:root:Epoch[12] Validation-accuracy=0.981070\n",
      "INFO:root:Epoch[13] Batch [100]\tSpeed: 115357.87 samples/sec\taccuracy=0.986463\n",
      "INFO:root:Epoch[13] Batch [200]\tSpeed: 113110.47 samples/sec\taccuracy=0.985859\n",
      "INFO:root:Epoch[13] Batch [300]\tSpeed: 117658.99 samples/sec\taccuracy=0.985938\n",
      "INFO:root:Epoch[13] Batch [400]\tSpeed: 116650.71 samples/sec\taccuracy=0.987734\n",
      "INFO:root:Epoch[13] Train-accuracy=0.986590\n",
      "INFO:root:Epoch[13] Time cost=0.523\n",
      "INFO:root:Epoch[13] Validation-accuracy=0.981571\n",
      "INFO:root:Epoch[14] Batch [100]\tSpeed: 117218.93 samples/sec\taccuracy=0.987469\n",
      "INFO:root:Epoch[14] Batch [200]\tSpeed: 116783.68 samples/sec\taccuracy=0.984609\n",
      "INFO:root:Epoch[14] Batch [300]\tSpeed: 113860.35 samples/sec\taccuracy=0.987422\n",
      "INFO:root:Epoch[14] Batch [400]\tSpeed: 114241.47 samples/sec\taccuracy=0.987891\n",
      "INFO:root:Epoch[14] Train-accuracy=0.988223\n",
      "INFO:root:Epoch[14] Time cost=0.526\n",
      "INFO:root:Epoch[14] Validation-accuracy=0.980669\n",
      "INFO:root:Epoch[15] Batch [100]\tSpeed: 118538.62 samples/sec\taccuracy=0.988475\n",
      "INFO:root:Epoch[15] Batch [200]\tSpeed: 115306.83 samples/sec\taccuracy=0.988437\n",
      "INFO:root:Epoch[15] Batch [300]\tSpeed: 114133.88 samples/sec\taccuracy=0.988750\n",
      "INFO:root:Epoch[15] Batch [400]\tSpeed: 114239.52 samples/sec\taccuracy=0.989297\n",
      "INFO:root:Epoch[15] Train-accuracy=0.987873\n",
      "INFO:root:Epoch[15] Time cost=0.525\n",
      "INFO:root:Epoch[15] Validation-accuracy=0.981971\n",
      "INFO:root:Epoch[16] Batch [100]\tSpeed: 108734.45 samples/sec\taccuracy=0.989171\n",
      "INFO:root:Epoch[16] Batch [200]\tSpeed: 111567.56 samples/sec\taccuracy=0.986563\n",
      "INFO:root:Epoch[16] Batch [300]\tSpeed: 111123.49 samples/sec\taccuracy=0.989297\n",
      "INFO:root:Epoch[16] Batch [400]\tSpeed: 112612.46 samples/sec\taccuracy=0.989922\n",
      "INFO:root:Epoch[16] Train-accuracy=0.989272\n",
      "INFO:root:Epoch[16] Time cost=0.544\n",
      "INFO:root:Epoch[16] Validation-accuracy=0.982171\n",
      "INFO:root:Epoch[17] Batch [100]\tSpeed: 116506.67 samples/sec\taccuracy=0.990099\n",
      "INFO:root:Epoch[17] Batch [200]\tSpeed: 117096.47 samples/sec\taccuracy=0.989141\n",
      "INFO:root:Epoch[17] Batch [300]\tSpeed: 116040.56 samples/sec\taccuracy=0.988516\n",
      "INFO:root:Epoch[17] Batch [400]\tSpeed: 108966.40 samples/sec\taccuracy=0.990859\n",
      "INFO:root:Epoch[17] Train-accuracy=0.989156\n"
     ]
    },
    {
     "name": "stderr",
     "output_type": "stream",
     "text": [
      "INFO:root:Epoch[17] Time cost=0.530\n",
      "INFO:root:Epoch[17] Validation-accuracy=0.981671\n",
      "INFO:root:Epoch[18] Batch [100]\tSpeed: 112141.31 samples/sec\taccuracy=0.989867\n",
      "INFO:root:Epoch[18] Batch [200]\tSpeed: 116011.97 samples/sec\taccuracy=0.989141\n",
      "INFO:root:Epoch[18] Batch [300]\tSpeed: 109663.07 samples/sec\taccuracy=0.990469\n",
      "INFO:root:Epoch[18] Batch [400]\tSpeed: 112154.43 samples/sec\taccuracy=0.991328\n",
      "INFO:root:Epoch[18] Train-accuracy=0.990205\n",
      "INFO:root:Epoch[18] Time cost=0.535\n",
      "INFO:root:Epoch[18] Validation-accuracy=0.982672\n",
      "INFO:root:Epoch[19] Batch [100]\tSpeed: 116968.91 samples/sec\taccuracy=0.991182\n",
      "INFO:root:Epoch[19] Batch [200]\tSpeed: 114257.03 samples/sec\taccuracy=0.989453\n",
      "INFO:root:Epoch[19] Batch [300]\tSpeed: 108295.12 samples/sec\taccuracy=0.990938\n",
      "INFO:root:Epoch[19] Batch [400]\tSpeed: 117809.77 samples/sec\taccuracy=0.992578\n",
      "INFO:root:Epoch[19] Train-accuracy=0.992887\n",
      "INFO:root:Epoch[19] Time cost=0.530\n",
      "INFO:root:Epoch[19] Validation-accuracy=0.983674\n",
      "INFO:root:Epoch[20] Batch [100]\tSpeed: 113756.61 samples/sec\taccuracy=0.992652\n",
      "INFO:root:Epoch[20] Batch [200]\tSpeed: 112197.32 samples/sec\taccuracy=0.991953\n",
      "INFO:root:Epoch[20] Batch [300]\tSpeed: 116774.79 samples/sec\taccuracy=0.991563\n",
      "INFO:root:Epoch[20] Batch [400]\tSpeed: 114493.87 samples/sec\taccuracy=0.992969\n",
      "INFO:root:Epoch[20] Train-accuracy=0.993587\n",
      "INFO:root:Epoch[20] Time cost=0.531\n",
      "INFO:root:Epoch[20] Validation-accuracy=0.983574\n",
      "INFO:root:Epoch[21] Batch [100]\tSpeed: 117641.97 samples/sec\taccuracy=0.992652\n",
      "INFO:root:Epoch[21] Batch [200]\tSpeed: 113820.52 samples/sec\taccuracy=0.991641\n",
      "INFO:root:Epoch[21] Batch [300]\tSpeed: 115537.36 samples/sec\taccuracy=0.991406\n",
      "INFO:root:Epoch[21] Batch [400]\tSpeed: 117196.16 samples/sec\taccuracy=0.992266\n",
      "INFO:root:Epoch[21] Train-accuracy=0.992188\n",
      "INFO:root:Epoch[21] Time cost=0.521\n",
      "INFO:root:Epoch[21] Validation-accuracy=0.982873\n",
      "INFO:root:Epoch[22] Batch [100]\tSpeed: 110908.85 samples/sec\taccuracy=0.994121\n",
      "INFO:root:Epoch[22] Batch [200]\tSpeed: 114649.86 samples/sec\taccuracy=0.992422\n",
      "INFO:root:Epoch[22] Batch [300]\tSpeed: 114829.86 samples/sec\taccuracy=0.992812\n",
      "INFO:root:Epoch[22] Batch [400]\tSpeed: 110984.28 samples/sec\taccuracy=0.994375\n",
      "INFO:root:Epoch[22] Train-accuracy=0.994053\n",
      "INFO:root:Epoch[22] Time cost=0.537\n",
      "INFO:root:Epoch[22] Validation-accuracy=0.984575\n",
      "INFO:root:Epoch[23] Batch [100]\tSpeed: 115526.17 samples/sec\taccuracy=0.993735\n",
      "INFO:root:Epoch[23] Batch [200]\tSpeed: 115529.65 samples/sec\taccuracy=0.992656\n",
      "INFO:root:Epoch[23] Batch [300]\tSpeed: 116290.90 samples/sec\taccuracy=0.992500\n",
      "INFO:root:Epoch[23] Batch [400]\tSpeed: 117057.15 samples/sec\taccuracy=0.993594\n",
      "INFO:root:Epoch[23] Train-accuracy=0.993004\n",
      "INFO:root:Epoch[23] Time cost=0.525\n",
      "INFO:root:Epoch[23] Validation-accuracy=0.983674\n",
      "INFO:root:Epoch[24] Batch [100]\tSpeed: 113673.03 samples/sec\taccuracy=0.995050\n",
      "INFO:root:Epoch[24] Batch [200]\tSpeed: 113638.14 samples/sec\taccuracy=0.992578\n",
      "INFO:root:Epoch[24] Batch [300]\tSpeed: 113919.06 samples/sec\taccuracy=0.993359\n",
      "INFO:root:Epoch[24] Batch [400]\tSpeed: 115420.62 samples/sec\taccuracy=0.995000\n",
      "INFO:root:Epoch[24] Train-accuracy=0.994753\n",
      "INFO:root:Epoch[24] Time cost=0.528\n",
      "INFO:root:Epoch[24] Validation-accuracy=0.983273\n",
      "INFO:root:Epoch[25] Batch [100]\tSpeed: 113372.97 samples/sec\taccuracy=0.993657\n",
      "INFO:root:Epoch[25] Batch [200]\tSpeed: 112168.96 samples/sec\taccuracy=0.992891\n",
      "INFO:root:Epoch[25] Batch [300]\tSpeed: 115792.53 samples/sec\taccuracy=0.993047\n",
      "INFO:root:Epoch[25] Batch [400]\tSpeed: 106173.99 samples/sec\taccuracy=0.994453\n",
      "INFO:root:Epoch[25] Train-accuracy=0.993470\n",
      "INFO:root:Epoch[25] Time cost=0.544\n",
      "INFO:root:Epoch[25] Validation-accuracy=0.983373\n",
      "INFO:root:Epoch[26] Batch [100]\tSpeed: 111311.95 samples/sec\taccuracy=0.995514\n",
      "INFO:root:Epoch[26] Batch [200]\tSpeed: 109863.47 samples/sec\taccuracy=0.994609\n",
      "INFO:root:Epoch[26] Batch [300]\tSpeed: 115636.65 samples/sec\taccuracy=0.993594\n",
      "INFO:root:Epoch[26] Batch [400]\tSpeed: 117402.47 samples/sec\taccuracy=0.995391\n",
      "INFO:root:Epoch[26] Train-accuracy=0.994869\n",
      "INFO:root:Epoch[26] Time cost=0.533\n",
      "INFO:root:Epoch[26] Validation-accuracy=0.982973\n",
      "INFO:root:Epoch[27] Batch [100]\tSpeed: 118414.43 samples/sec\taccuracy=0.994972\n",
      "INFO:root:Epoch[27] Batch [200]\tSpeed: 115516.23 samples/sec\taccuracy=0.993516\n",
      "INFO:root:Epoch[27] Batch [300]\tSpeed: 117165.98 samples/sec\taccuracy=0.995469\n",
      "INFO:root:Epoch[27] Batch [400]\tSpeed: 116795.11 samples/sec\taccuracy=0.994375\n",
      "INFO:root:Epoch[27] Train-accuracy=0.995336\n",
      "INFO:root:Epoch[27] Time cost=0.517\n",
      "INFO:root:Epoch[27] Validation-accuracy=0.983974\n",
      "INFO:root:Epoch[28] Batch [100]\tSpeed: 115959.10 samples/sec\taccuracy=0.995746\n",
      "INFO:root:Epoch[28] Batch [200]\tSpeed: 108813.79 samples/sec\taccuracy=0.994766\n",
      "INFO:root:Epoch[28] Batch [300]\tSpeed: 111913.16 samples/sec\taccuracy=0.995391\n",
      "INFO:root:Epoch[28] Batch [400]\tSpeed: 116923.05 samples/sec\taccuracy=0.995469\n",
      "INFO:root:Epoch[28] Train-accuracy=0.994170\n",
      "INFO:root:Epoch[28] Time cost=0.535\n",
      "INFO:root:Epoch[28] Validation-accuracy=0.983974\n",
      "INFO:root:Epoch[29] Batch [100]\tSpeed: 109140.96 samples/sec\taccuracy=0.995359\n",
      "INFO:root:Epoch[29] Batch [200]\tSpeed: 116111.83 samples/sec\taccuracy=0.995391\n",
      "INFO:root:Epoch[29] Batch [300]\tSpeed: 115413.17 samples/sec\taccuracy=0.995234\n",
      "INFO:root:Epoch[29] Batch [400]\tSpeed: 114312.74 samples/sec\taccuracy=0.996328\n",
      "INFO:root:Epoch[29] Train-accuracy=0.994986\n",
      "INFO:root:Epoch[29] Time cost=0.529\n",
      "INFO:root:Epoch[29] Validation-accuracy=0.984375\n",
      "INFO:root:Epoch[30] Batch [100]\tSpeed: 112429.93 samples/sec\taccuracy=0.996442\n",
      "INFO:root:Epoch[30] Batch [200]\tSpeed: 111678.96 samples/sec\taccuracy=0.994609\n",
      "INFO:root:Epoch[30] Batch [300]\tSpeed: 117019.39 samples/sec\taccuracy=0.995859\n",
      "INFO:root:Epoch[30] Batch [400]\tSpeed: 118936.74 samples/sec\taccuracy=0.996328\n",
      "INFO:root:Epoch[30] Train-accuracy=0.996152\n",
      "INFO:root:Epoch[30] Time cost=0.526\n",
      "INFO:root:Epoch[30] Validation-accuracy=0.983674\n",
      "INFO:root:Epoch[31] Batch [100]\tSpeed: 115746.35 samples/sec\taccuracy=0.996597\n",
      "INFO:root:Epoch[31] Batch [200]\tSpeed: 111583.10 samples/sec\taccuracy=0.995391\n",
      "INFO:root:Epoch[31] Batch [300]\tSpeed: 116056.36 samples/sec\taccuracy=0.994922\n",
      "INFO:root:Epoch[31] Batch [400]\tSpeed: 112310.22 samples/sec\taccuracy=0.996953\n",
      "INFO:root:Epoch[31] Train-accuracy=0.995802\n",
      "INFO:root:Epoch[31] Time cost=0.529\n",
      "INFO:root:Epoch[31] Validation-accuracy=0.983574\n",
      "INFO:root:Epoch[32] Batch [100]\tSpeed: 114756.47 samples/sec\taccuracy=0.995900\n",
      "INFO:root:Epoch[32] Batch [200]\tSpeed: 114700.08 samples/sec\taccuracy=0.994687\n",
      "INFO:root:Epoch[32] Batch [300]\tSpeed: 114476.05 samples/sec\taccuracy=0.995313\n",
      "INFO:root:Epoch[32] Batch [400]\tSpeed: 112701.35 samples/sec\taccuracy=0.995938\n",
      "INFO:root:Epoch[32] Train-accuracy=0.994753\n",
      "INFO:root:Epoch[32] Time cost=0.533\n",
      "INFO:root:Epoch[32] Validation-accuracy=0.984175\n",
      "INFO:root:Epoch[33] Batch [100]\tSpeed: 116165.85 samples/sec\taccuracy=0.995668\n",
      "INFO:root:Epoch[33] Batch [200]\tSpeed: 117330.37 samples/sec\taccuracy=0.995938\n",
      "INFO:root:Epoch[33] Batch [300]\tSpeed: 115922.04 samples/sec\taccuracy=0.995234\n",
      "INFO:root:Epoch[33] Batch [400]\tSpeed: 111901.49 samples/sec\taccuracy=0.996797\n",
      "INFO:root:Epoch[33] Train-accuracy=0.996385\n",
      "INFO:root:Epoch[33] Time cost=0.525\n",
      "INFO:root:Epoch[33] Validation-accuracy=0.983874\n",
      "INFO:root:Epoch[34] Batch [100]\tSpeed: 113572.04 samples/sec\taccuracy=0.995746\n",
      "INFO:root:Epoch[34] Batch [200]\tSpeed: 117558.51 samples/sec\taccuracy=0.996016\n",
      "INFO:root:Epoch[34] Batch [300]\tSpeed: 115198.46 samples/sec\taccuracy=0.996094\n",
      "INFO:root:Epoch[34] Batch [400]\tSpeed: 110689.10 samples/sec\taccuracy=0.996563\n",
      "INFO:root:Epoch[34] Train-accuracy=0.996502\n",
      "INFO:root:Epoch[34] Time cost=0.529\n",
      "INFO:root:Epoch[34] Validation-accuracy=0.983774\n",
      "INFO:root:Epoch[35] Batch [100]\tSpeed: 117421.98 samples/sec\taccuracy=0.996906\n",
      "INFO:root:Epoch[35] Batch [200]\tSpeed: 115728.13 samples/sec\taccuracy=0.996250\n",
      "INFO:root:Epoch[35] Batch [300]\tSpeed: 119018.47 samples/sec\taccuracy=0.996016\n",
      "INFO:root:Epoch[35] Batch [400]\tSpeed: 114491.67 samples/sec\taccuracy=0.997109\n",
      "INFO:root:Epoch[35] Train-accuracy=0.996735\n",
      "INFO:root:Epoch[35] Time cost=0.519\n",
      "INFO:root:Epoch[35] Validation-accuracy=0.983674\n",
      "INFO:root:Epoch[36] Batch [100]\tSpeed: 116474.57 samples/sec\taccuracy=0.996906\n",
      "INFO:root:Epoch[36] Batch [200]\tSpeed: 114415.79 samples/sec\taccuracy=0.996719\n"
     ]
    },
    {
     "name": "stderr",
     "output_type": "stream",
     "text": [
      "INFO:root:Epoch[36] Batch [300]\tSpeed: 116549.17 samples/sec\taccuracy=0.996016\n",
      "INFO:root:Epoch[36] Batch [400]\tSpeed: 110060.09 samples/sec\taccuracy=0.997188\n",
      "INFO:root:Epoch[36] Train-accuracy=0.997901\n",
      "INFO:root:Epoch[36] Time cost=0.528\n",
      "INFO:root:Epoch[36] Validation-accuracy=0.983273\n",
      "INFO:root:Epoch[37] Batch [100]\tSpeed: 119067.83 samples/sec\taccuracy=0.996519\n",
      "INFO:root:Epoch[37] Batch [200]\tSpeed: 111317.49 samples/sec\taccuracy=0.996094\n",
      "INFO:root:Epoch[37] Batch [300]\tSpeed: 114146.98 samples/sec\taccuracy=0.996484\n",
      "INFO:root:Epoch[37] Batch [400]\tSpeed: 115374.48 samples/sec\taccuracy=0.997500\n",
      "INFO:root:Epoch[37] Train-accuracy=0.997785\n",
      "INFO:root:Epoch[37] Time cost=0.525\n",
      "INFO:root:Epoch[37] Validation-accuracy=0.984175\n",
      "INFO:root:Epoch[38] Batch [100]\tSpeed: 113929.94 samples/sec\taccuracy=0.996519\n",
      "INFO:root:Epoch[38] Batch [200]\tSpeed: 111846.48 samples/sec\taccuracy=0.996406\n",
      "INFO:root:Epoch[38] Batch [300]\tSpeed: 112082.31 samples/sec\taccuracy=0.996406\n",
      "INFO:root:Epoch[38] Batch [400]\tSpeed: 115546.31 samples/sec\taccuracy=0.997969\n",
      "INFO:root:Epoch[38] Train-accuracy=0.996735\n",
      "INFO:root:Epoch[38] Time cost=0.534\n",
      "INFO:root:Epoch[38] Validation-accuracy=0.983774\n",
      "INFO:root:Epoch[39] Batch [100]\tSpeed: 111489.25 samples/sec\taccuracy=0.997757\n",
      "INFO:root:Epoch[39] Batch [200]\tSpeed: 109073.99 samples/sec\taccuracy=0.997578\n",
      "INFO:root:Epoch[39] Batch [300]\tSpeed: 111990.19 samples/sec\taccuracy=0.997422\n",
      "INFO:root:Epoch[39] Batch [400]\tSpeed: 112073.42 samples/sec\taccuracy=0.997500\n",
      "INFO:root:Epoch[39] Train-accuracy=0.998484\n",
      "INFO:root:Epoch[39] Time cost=0.540\n",
      "INFO:root:Epoch[39] Validation-accuracy=0.984675\n",
      "INFO:root:Epoch[40] Batch [100]\tSpeed: 113704.33 samples/sec\taccuracy=0.997757\n",
      "INFO:root:Epoch[40] Batch [200]\tSpeed: 110564.64 samples/sec\taccuracy=0.996641\n",
      "INFO:root:Epoch[40] Batch [300]\tSpeed: 116403.36 samples/sec\taccuracy=0.997344\n",
      "INFO:root:Epoch[40] Batch [400]\tSpeed: 113724.56 samples/sec\taccuracy=0.996953\n",
      "INFO:root:Epoch[40] Train-accuracy=0.997318\n",
      "INFO:root:Epoch[40] Time cost=0.531\n",
      "INFO:root:Epoch[40] Validation-accuracy=0.984475\n",
      "INFO:root:Epoch[41] Batch [100]\tSpeed: 114337.33 samples/sec\taccuracy=0.997679\n",
      "INFO:root:Epoch[41] Batch [200]\tSpeed: 113915.68 samples/sec\taccuracy=0.996719\n",
      "INFO:root:Epoch[41] Batch [300]\tSpeed: 113078.07 samples/sec\taccuracy=0.996563\n",
      "INFO:root:Epoch[41] Batch [400]\tSpeed: 118342.39 samples/sec\taccuracy=0.998047\n",
      "INFO:root:Epoch[41] Train-accuracy=0.997085\n",
      "INFO:root:Epoch[41] Time cost=0.527\n",
      "INFO:root:Epoch[41] Validation-accuracy=0.983974\n",
      "INFO:root:Epoch[42] Batch [100]\tSpeed: 114119.08 samples/sec\taccuracy=0.998144\n",
      "INFO:root:Epoch[42] Batch [200]\tSpeed: 112848.46 samples/sec\taccuracy=0.997188\n",
      "INFO:root:Epoch[42] Batch [300]\tSpeed: 112668.95 samples/sec\taccuracy=0.997500\n",
      "INFO:root:Epoch[42] Batch [400]\tSpeed: 113073.30 samples/sec\taccuracy=0.997656\n",
      "INFO:root:Epoch[42] Train-accuracy=0.996968\n",
      "INFO:root:Epoch[42] Time cost=0.534\n",
      "INFO:root:Epoch[42] Validation-accuracy=0.984475\n",
      "INFO:root:Epoch[43] Batch [100]\tSpeed: 115363.57 samples/sec\taccuracy=0.997602\n",
      "INFO:root:Epoch[43] Batch [200]\tSpeed: 113241.93 samples/sec\taccuracy=0.996797\n",
      "INFO:root:Epoch[43] Batch [300]\tSpeed: 116947.76 samples/sec\taccuracy=0.997656\n",
      "INFO:root:Epoch[43] Batch [400]\tSpeed: 111794.07 samples/sec\taccuracy=0.997578\n",
      "INFO:root:Epoch[43] Train-accuracy=0.998368\n",
      "INFO:root:Epoch[43] Time cost=0.530\n",
      "INFO:root:Epoch[43] Validation-accuracy=0.984675\n",
      "INFO:root:Epoch[44] Batch [100]\tSpeed: 114042.96 samples/sec\taccuracy=0.997834\n",
      "INFO:root:Epoch[44] Batch [200]\tSpeed: 116589.66 samples/sec\taccuracy=0.996953\n",
      "INFO:root:Epoch[44] Batch [300]\tSpeed: 111161.68 samples/sec\taccuracy=0.997500\n",
      "INFO:root:Epoch[44] Batch [400]\tSpeed: 113197.52 samples/sec\taccuracy=0.997344\n",
      "INFO:root:Epoch[44] Train-accuracy=0.997201\n",
      "INFO:root:Epoch[44] Time cost=0.531\n",
      "INFO:root:Epoch[44] Validation-accuracy=0.984275\n",
      "INFO:root:Epoch[45] Batch [100]\tSpeed: 118064.19 samples/sec\taccuracy=0.998298\n",
      "INFO:root:Epoch[45] Batch [200]\tSpeed: 110510.47 samples/sec\taccuracy=0.997266\n",
      "INFO:root:Epoch[45] Batch [300]\tSpeed: 117851.15 samples/sec\taccuracy=0.998359\n",
      "INFO:root:Epoch[45] Batch [400]\tSpeed: 114522.69 samples/sec\taccuracy=0.997656\n",
      "INFO:root:Epoch[45] Train-accuracy=0.997668\n",
      "INFO:root:Epoch[45] Time cost=0.527\n",
      "INFO:root:Epoch[45] Validation-accuracy=0.984575\n",
      "INFO:root:Epoch[46] Batch [100]\tSpeed: 115599.80 samples/sec\taccuracy=0.997447\n",
      "INFO:root:Epoch[46] Batch [200]\tSpeed: 111714.28 samples/sec\taccuracy=0.997812\n",
      "INFO:root:Epoch[46] Batch [300]\tSpeed: 117584.52 samples/sec\taccuracy=0.997578\n",
      "INFO:root:Epoch[46] Batch [400]\tSpeed: 113617.22 samples/sec\taccuracy=0.998281\n",
      "INFO:root:Epoch[46] Train-accuracy=0.998368\n",
      "INFO:root:Epoch[46] Time cost=0.529\n",
      "INFO:root:Epoch[46] Validation-accuracy=0.983774\n",
      "INFO:root:Epoch[47] Batch [100]\tSpeed: 115534.87 samples/sec\taccuracy=0.997061\n",
      "INFO:root:Epoch[47] Batch [200]\tSpeed: 116303.25 samples/sec\taccuracy=0.997656\n",
      "INFO:root:Epoch[47] Batch [300]\tSpeed: 115966.86 samples/sec\taccuracy=0.997422\n",
      "INFO:root:Epoch[47] Batch [400]\tSpeed: 115585.37 samples/sec\taccuracy=0.997969\n",
      "INFO:root:Epoch[47] Train-accuracy=0.997318\n",
      "INFO:root:Epoch[47] Time cost=0.522\n",
      "INFO:root:Epoch[47] Validation-accuracy=0.984475\n",
      "INFO:root:Epoch[48] Batch [100]\tSpeed: 116986.49 samples/sec\taccuracy=0.997370\n",
      "INFO:root:Epoch[48] Batch [200]\tSpeed: 113971.78 samples/sec\taccuracy=0.997891\n",
      "INFO:root:Epoch[48] Batch [300]\tSpeed: 117151.40 samples/sec\taccuracy=0.997891\n",
      "INFO:root:Epoch[48] Batch [400]\tSpeed: 112806.25 samples/sec\taccuracy=0.998594\n",
      "INFO:root:Epoch[48] Train-accuracy=0.998368\n",
      "INFO:root:Epoch[48] Time cost=0.528\n",
      "INFO:root:Epoch[48] Validation-accuracy=0.983874\n",
      "INFO:root:Epoch[49] Batch [100]\tSpeed: 117920.52 samples/sec\taccuracy=0.998298\n",
      "INFO:root:Epoch[49] Batch [200]\tSpeed: 116326.94 samples/sec\taccuracy=0.998594\n",
      "INFO:root:Epoch[49] Batch [300]\tSpeed: 113481.29 samples/sec\taccuracy=0.997578\n",
      "INFO:root:Epoch[49] Batch [400]\tSpeed: 114625.38 samples/sec\taccuracy=0.996875\n",
      "INFO:root:Epoch[49] Train-accuracy=0.997901\n",
      "INFO:root:Epoch[49] Time cost=0.523\n",
      "INFO:root:Epoch[49] Validation-accuracy=0.984375\n"
     ]
    }
   ],
   "source": [
    "mod.fit(train_iter, eval_data=val_iter, num_epoch=nb_epochs,\n",
    "        batch_end_callback=mx.callback.Speedometer(128, 100))"
   ]
  },
  {
   "cell_type": "code",
   "execution_count": 17,
   "metadata": {},
   "outputs": [
    {
     "name": "stderr",
     "output_type": "stream",
     "text": [
      "INFO:root:Saved checkpoint to \"mlp-0050.params\"\n"
     ]
    }
   ],
   "source": [
    "mod.save_checkpoint(\"mlp\", nb_epochs)"
   ]
  },
  {
   "cell_type": "markdown",
   "metadata": {},
   "source": [
    "Let's measure validation accuracy."
   ]
  },
  {
   "cell_type": "code",
   "execution_count": 18,
   "metadata": {},
   "outputs": [
    {
     "name": "stdout",
     "output_type": "stream",
     "text": [
      "('accuracy', 0.984375)\n"
     ]
    }
   ],
   "source": [
    "metric = mx.metric.Accuracy()\n",
    "mod.score(val_iter, metric)\n",
    "print(metric.get())"
   ]
  },
  {
   "cell_type": "code",
   "execution_count": null,
   "metadata": {
    "collapsed": true
   },
   "outputs": [],
   "source": []
  }
 ],
 "metadata": {
  "kernelspec": {
   "display_name": "conda_mxnet_p36",
   "language": "python",
   "name": "conda_mxnet_p36"
  },
  "language_info": {
   "codemirror_mode": {
    "name": "ipython",
    "version": 3
   },
   "file_extension": ".py",
   "mimetype": "text/x-python",
   "name": "python",
   "nbconvert_exporter": "python",
   "pygments_lexer": "ipython3",
   "version": "3.6.3"
  }
 },
 "nbformat": 4,
 "nbformat_minor": 2
}
